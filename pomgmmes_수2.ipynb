{
 "cells": [
  {
   "cell_type": "markdown",
   "metadata": {},
   "source": [
    "# 로또 만들기 코드"
   ]
  },
  {
   "cell_type": "code",
   "execution_count": 1,
   "metadata": {},
   "outputs": [],
   "source": [
    "def solution(numLog):\n",
    "    \n",
    "    answer = ''\n",
    "    \n",
    "    for i in range(len(numLog)-1) :\n",
    "        if numLog[i+1] - numLog[i] == 1 :\n",
    "            answer += 'w'\n",
    "        elif numLog[i+1] - numLog[i] == -1 :    \n",
    "            answer += 's'\n",
    "        elif numLog[i+1] - numLog[i] == 10 :\n",
    "            answer += 'd'\n",
    "        elif numLog[i+1] - numLog[i] == -10 :\n",
    "            answer += 'a'\n",
    "            \n",
    "    \n",
    "    return answer"
   ]
  },
  {
   "cell_type": "code",
   "execution_count": null,
   "metadata": {},
   "outputs": [],
   "source": []
  }
 ],
 "metadata": {
  "kernelspec": {
   "display_name": "Python 3",
   "language": "python",
   "name": "python3"
  },
  "language_info": {
   "codemirror_mode": {
    "name": "ipython",
    "version": 3
   },
   "file_extension": ".py",
   "mimetype": "text/x-python",
   "name": "python",
   "nbconvert_exporter": "python",
   "pygments_lexer": "ipython3",
   "version": "3.10.7"
  },
  "orig_nbformat": 4
 },
 "nbformat": 4,
 "nbformat_minor": 2
}
