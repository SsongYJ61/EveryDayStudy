{
 "cells": [
  {
   "cell_type": "markdown",
   "metadata": {},
   "source": [
    "# 로또 만들기 코드"
   ]
  },
  {
   "cell_type": "code",
   "execution_count": 1,
   "metadata": {},
   "outputs": [],
   "source": [
    "from random import randint\n",
    "\n",
    "def generate_numbers(n):\n",
    "    # 지난 실습의 코드를 여기에 붙여 넣으세요\n",
    "    lst = []\n",
    "    for i in range(n) :\n",
    "        num = random.randint(1,45)\n",
    "        while num in lst :\n",
    "            num = random.randint(1,45)\n",
    "        lst.append(num)\n",
    "    return lst\n",
    "\n",
    "def draw_winning_numbers():\n",
    "    # 여기에 코드를 작성하세요\n",
    "    list = sorted(generate_numbers(6))\n",
    "    if len(list) == 6 :\n",
    "        bonus = random.randint(1,45)\n",
    "        list.append(bonus)\n",
    "    return list\n",
    "# 테스트 코드\n",
    "print(draw_winning_numbers())"
   ]
  },
  {
   "cell_type": "code",
   "execution_count": null,
   "metadata": {},
   "outputs": [],
   "source": []
  }
 ],
 "metadata": {
  "kernelspec": {
   "display_name": "Python 3",
   "language": "python",
   "name": "python3"
  },
  "language_info": {
   "codemirror_mode": {
    "name": "ipython",
    "version": 3
   },
   "file_extension": ".py",
   "mimetype": "text/x-python",
   "name": "python",
   "nbconvert_exporter": "python",
   "pygments_lexer": "ipython3",
   "version": "3.10.7"
  },
  "orig_nbformat": 4
 },
 "nbformat": 4,
 "nbformat_minor": 2
}
